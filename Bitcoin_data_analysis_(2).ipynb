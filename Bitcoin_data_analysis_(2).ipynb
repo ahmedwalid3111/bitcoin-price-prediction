{
  "nbformat": 4,
  "nbformat_minor": 0,
  "metadata": {
    "colab": {
      "provenance": []
    },
    "kernelspec": {
      "name": "python3",
      "display_name": "Python 3"
    },
    "language_info": {
      "name": "python"
    }
  },
  "cells": [
    {
      "cell_type": "markdown",
      "source": [
        "**Importings**"
      ],
      "metadata": {
        "id": "6Ux_cDv73wLD"
      }
    },
    {
      "cell_type": "code",
      "execution_count": 1,
      "metadata": {
        "id": "vDvqd4Zh0WWd"
      },
      "outputs": [],
      "source": [
        "import numpy as np\n",
        "import pandas as pd\n",
        "import matplotlib.pyplot as plt\n",
        "import statistics\n",
        "from scipy.stats import norm\n",
        "import seaborn as sns"
      ]
    },
    {
      "cell_type": "code",
      "source": [
        "from google.colab import drive\n",
        "drive.mount('/content/drive')"
      ],
      "metadata": {
        "colab": {
          "base_uri": "https://localhost:8080/"
        },
        "id": "ZoXCHXThreGb",
        "outputId": "3378bd2a-71a5-4340-9560-e41bb9349723"
      },
      "execution_count": 2,
      "outputs": [
        {
          "output_type": "stream",
          "name": "stdout",
          "text": [
            "Mounted at /content/drive\n"
          ]
        }
      ]
    },
    {
      "cell_type": "markdown",
      "source": [
        "**Reading data**"
      ],
      "metadata": {
        "id": "UCA9neWu33RS"
      }
    },
    {
      "cell_type": "code",
      "source": [
        "data=pd.read_csv('/content/drive/MyDrive/bitcoin dataset/filtered_data.csv')"
      ],
      "metadata": {
        "id": "21zL_k5Y0lE5"
      },
      "execution_count": 3,
      "outputs": []
    },
    {
      "cell_type": "markdown",
      "source": [
        "**Exploring data**"
      ],
      "metadata": {
        "id": "aeIQLTAS39zw"
      }
    },
    {
      "cell_type": "code",
      "source": [
        "data.head()"
      ],
      "metadata": {
        "colab": {
          "base_uri": "https://localhost:8080/",
          "height": 206
        },
        "id": "WaPqA3Lc05ZN",
        "outputId": "b3995d81-baa6-4455-ce64-7c8ccfd74065"
      },
      "execution_count": 4,
      "outputs": [
        {
          "output_type": "execute_result",
          "data": {
            "text/plain": [
              "   Unnamed: 0   Timestamp     Open     High      Low    Close  Volume_(BTC)  \\\n",
              "0           0  1577836800  7160.69  7160.69  7159.64  7159.64      5.501691   \n",
              "1           1  1577836860  7161.51  7161.51  7155.09  7161.20      3.776924   \n",
              "2           2  1577836920  7158.82  7158.82  7158.82  7158.82      0.029278   \n",
              "3           3  1577836980  7158.82  7158.82  7156.90  7156.90      0.065819   \n",
              "4           4  1577837040  7158.50  7158.50  7154.97  7157.20      0.971387   \n",
              "\n",
              "   Volume_(Currency)  Weighted_Price  \n",
              "0       39392.484606     7160.068520  \n",
              "1       27047.304680     7161.198209  \n",
              "2         209.595359     7158.820000  \n",
              "3         471.156094     7158.321885  \n",
              "4        6950.500833     7155.235666  "
            ],
            "text/html": [
              "\n",
              "  <div id=\"df-bbf4ef5a-53b0-4f15-8b48-6612bf8fd893\" class=\"colab-df-container\">\n",
              "    <div>\n",
              "<style scoped>\n",
              "    .dataframe tbody tr th:only-of-type {\n",
              "        vertical-align: middle;\n",
              "    }\n",
              "\n",
              "    .dataframe tbody tr th {\n",
              "        vertical-align: top;\n",
              "    }\n",
              "\n",
              "    .dataframe thead th {\n",
              "        text-align: right;\n",
              "    }\n",
              "</style>\n",
              "<table border=\"1\" class=\"dataframe\">\n",
              "  <thead>\n",
              "    <tr style=\"text-align: right;\">\n",
              "      <th></th>\n",
              "      <th>Unnamed: 0</th>\n",
              "      <th>Timestamp</th>\n",
              "      <th>Open</th>\n",
              "      <th>High</th>\n",
              "      <th>Low</th>\n",
              "      <th>Close</th>\n",
              "      <th>Volume_(BTC)</th>\n",
              "      <th>Volume_(Currency)</th>\n",
              "      <th>Weighted_Price</th>\n",
              "    </tr>\n",
              "  </thead>\n",
              "  <tbody>\n",
              "    <tr>\n",
              "      <th>0</th>\n",
              "      <td>0</td>\n",
              "      <td>1577836800</td>\n",
              "      <td>7160.69</td>\n",
              "      <td>7160.69</td>\n",
              "      <td>7159.64</td>\n",
              "      <td>7159.64</td>\n",
              "      <td>5.501691</td>\n",
              "      <td>39392.484606</td>\n",
              "      <td>7160.068520</td>\n",
              "    </tr>\n",
              "    <tr>\n",
              "      <th>1</th>\n",
              "      <td>1</td>\n",
              "      <td>1577836860</td>\n",
              "      <td>7161.51</td>\n",
              "      <td>7161.51</td>\n",
              "      <td>7155.09</td>\n",
              "      <td>7161.20</td>\n",
              "      <td>3.776924</td>\n",
              "      <td>27047.304680</td>\n",
              "      <td>7161.198209</td>\n",
              "    </tr>\n",
              "    <tr>\n",
              "      <th>2</th>\n",
              "      <td>2</td>\n",
              "      <td>1577836920</td>\n",
              "      <td>7158.82</td>\n",
              "      <td>7158.82</td>\n",
              "      <td>7158.82</td>\n",
              "      <td>7158.82</td>\n",
              "      <td>0.029278</td>\n",
              "      <td>209.595359</td>\n",
              "      <td>7158.820000</td>\n",
              "    </tr>\n",
              "    <tr>\n",
              "      <th>3</th>\n",
              "      <td>3</td>\n",
              "      <td>1577836980</td>\n",
              "      <td>7158.82</td>\n",
              "      <td>7158.82</td>\n",
              "      <td>7156.90</td>\n",
              "      <td>7156.90</td>\n",
              "      <td>0.065819</td>\n",
              "      <td>471.156094</td>\n",
              "      <td>7158.321885</td>\n",
              "    </tr>\n",
              "    <tr>\n",
              "      <th>4</th>\n",
              "      <td>4</td>\n",
              "      <td>1577837040</td>\n",
              "      <td>7158.50</td>\n",
              "      <td>7158.50</td>\n",
              "      <td>7154.97</td>\n",
              "      <td>7157.20</td>\n",
              "      <td>0.971387</td>\n",
              "      <td>6950.500833</td>\n",
              "      <td>7155.235666</td>\n",
              "    </tr>\n",
              "  </tbody>\n",
              "</table>\n",
              "</div>\n",
              "    <div class=\"colab-df-buttons\">\n",
              "\n",
              "  <div class=\"colab-df-container\">\n",
              "    <button class=\"colab-df-convert\" onclick=\"convertToInteractive('df-bbf4ef5a-53b0-4f15-8b48-6612bf8fd893')\"\n",
              "            title=\"Convert this dataframe to an interactive table.\"\n",
              "            style=\"display:none;\">\n",
              "\n",
              "  <svg xmlns=\"http://www.w3.org/2000/svg\" height=\"24px\" viewBox=\"0 -960 960 960\">\n",
              "    <path d=\"M120-120v-720h720v720H120Zm60-500h600v-160H180v160Zm220 220h160v-160H400v160Zm0 220h160v-160H400v160ZM180-400h160v-160H180v160Zm440 0h160v-160H620v160ZM180-180h160v-160H180v160Zm440 0h160v-160H620v160Z\"/>\n",
              "  </svg>\n",
              "    </button>\n",
              "\n",
              "  <style>\n",
              "    .colab-df-container {\n",
              "      display:flex;\n",
              "      gap: 12px;\n",
              "    }\n",
              "\n",
              "    .colab-df-convert {\n",
              "      background-color: #E8F0FE;\n",
              "      border: none;\n",
              "      border-radius: 50%;\n",
              "      cursor: pointer;\n",
              "      display: none;\n",
              "      fill: #1967D2;\n",
              "      height: 32px;\n",
              "      padding: 0 0 0 0;\n",
              "      width: 32px;\n",
              "    }\n",
              "\n",
              "    .colab-df-convert:hover {\n",
              "      background-color: #E2EBFA;\n",
              "      box-shadow: 0px 1px 2px rgba(60, 64, 67, 0.3), 0px 1px 3px 1px rgba(60, 64, 67, 0.15);\n",
              "      fill: #174EA6;\n",
              "    }\n",
              "\n",
              "    .colab-df-buttons div {\n",
              "      margin-bottom: 4px;\n",
              "    }\n",
              "\n",
              "    [theme=dark] .colab-df-convert {\n",
              "      background-color: #3B4455;\n",
              "      fill: #D2E3FC;\n",
              "    }\n",
              "\n",
              "    [theme=dark] .colab-df-convert:hover {\n",
              "      background-color: #434B5C;\n",
              "      box-shadow: 0px 1px 3px 1px rgba(0, 0, 0, 0.15);\n",
              "      filter: drop-shadow(0px 1px 2px rgba(0, 0, 0, 0.3));\n",
              "      fill: #FFFFFF;\n",
              "    }\n",
              "  </style>\n",
              "\n",
              "    <script>\n",
              "      const buttonEl =\n",
              "        document.querySelector('#df-bbf4ef5a-53b0-4f15-8b48-6612bf8fd893 button.colab-df-convert');\n",
              "      buttonEl.style.display =\n",
              "        google.colab.kernel.accessAllowed ? 'block' : 'none';\n",
              "\n",
              "      async function convertToInteractive(key) {\n",
              "        const element = document.querySelector('#df-bbf4ef5a-53b0-4f15-8b48-6612bf8fd893');\n",
              "        const dataTable =\n",
              "          await google.colab.kernel.invokeFunction('convertToInteractive',\n",
              "                                                    [key], {});\n",
              "        if (!dataTable) return;\n",
              "\n",
              "        const docLinkHtml = 'Like what you see? Visit the ' +\n",
              "          '<a target=\"_blank\" href=https://colab.research.google.com/notebooks/data_table.ipynb>data table notebook</a>'\n",
              "          + ' to learn more about interactive tables.';\n",
              "        element.innerHTML = '';\n",
              "        dataTable['output_type'] = 'display_data';\n",
              "        await google.colab.output.renderOutput(dataTable, element);\n",
              "        const docLink = document.createElement('div');\n",
              "        docLink.innerHTML = docLinkHtml;\n",
              "        element.appendChild(docLink);\n",
              "      }\n",
              "    </script>\n",
              "  </div>\n",
              "\n",
              "\n",
              "<div id=\"df-ad55d91a-47a7-4692-be83-602fda35bebe\">\n",
              "  <button class=\"colab-df-quickchart\" onclick=\"quickchart('df-ad55d91a-47a7-4692-be83-602fda35bebe')\"\n",
              "            title=\"Suggest charts.\"\n",
              "            style=\"display:none;\">\n",
              "\n",
              "<svg xmlns=\"http://www.w3.org/2000/svg\" height=\"24px\"viewBox=\"0 0 24 24\"\n",
              "     width=\"24px\">\n",
              "    <g>\n",
              "        <path d=\"M19 3H5c-1.1 0-2 .9-2 2v14c0 1.1.9 2 2 2h14c1.1 0 2-.9 2-2V5c0-1.1-.9-2-2-2zM9 17H7v-7h2v7zm4 0h-2V7h2v10zm4 0h-2v-4h2v4z\"/>\n",
              "    </g>\n",
              "</svg>\n",
              "  </button>\n",
              "\n",
              "<style>\n",
              "  .colab-df-quickchart {\n",
              "      --bg-color: #E8F0FE;\n",
              "      --fill-color: #1967D2;\n",
              "      --hover-bg-color: #E2EBFA;\n",
              "      --hover-fill-color: #174EA6;\n",
              "      --disabled-fill-color: #AAA;\n",
              "      --disabled-bg-color: #DDD;\n",
              "  }\n",
              "\n",
              "  [theme=dark] .colab-df-quickchart {\n",
              "      --bg-color: #3B4455;\n",
              "      --fill-color: #D2E3FC;\n",
              "      --hover-bg-color: #434B5C;\n",
              "      --hover-fill-color: #FFFFFF;\n",
              "      --disabled-bg-color: #3B4455;\n",
              "      --disabled-fill-color: #666;\n",
              "  }\n",
              "\n",
              "  .colab-df-quickchart {\n",
              "    background-color: var(--bg-color);\n",
              "    border: none;\n",
              "    border-radius: 50%;\n",
              "    cursor: pointer;\n",
              "    display: none;\n",
              "    fill: var(--fill-color);\n",
              "    height: 32px;\n",
              "    padding: 0;\n",
              "    width: 32px;\n",
              "  }\n",
              "\n",
              "  .colab-df-quickchart:hover {\n",
              "    background-color: var(--hover-bg-color);\n",
              "    box-shadow: 0 1px 2px rgba(60, 64, 67, 0.3), 0 1px 3px 1px rgba(60, 64, 67, 0.15);\n",
              "    fill: var(--button-hover-fill-color);\n",
              "  }\n",
              "\n",
              "  .colab-df-quickchart-complete:disabled,\n",
              "  .colab-df-quickchart-complete:disabled:hover {\n",
              "    background-color: var(--disabled-bg-color);\n",
              "    fill: var(--disabled-fill-color);\n",
              "    box-shadow: none;\n",
              "  }\n",
              "\n",
              "  .colab-df-spinner {\n",
              "    border: 2px solid var(--fill-color);\n",
              "    border-color: transparent;\n",
              "    border-bottom-color: var(--fill-color);\n",
              "    animation:\n",
              "      spin 1s steps(1) infinite;\n",
              "  }\n",
              "\n",
              "  @keyframes spin {\n",
              "    0% {\n",
              "      border-color: transparent;\n",
              "      border-bottom-color: var(--fill-color);\n",
              "      border-left-color: var(--fill-color);\n",
              "    }\n",
              "    20% {\n",
              "      border-color: transparent;\n",
              "      border-left-color: var(--fill-color);\n",
              "      border-top-color: var(--fill-color);\n",
              "    }\n",
              "    30% {\n",
              "      border-color: transparent;\n",
              "      border-left-color: var(--fill-color);\n",
              "      border-top-color: var(--fill-color);\n",
              "      border-right-color: var(--fill-color);\n",
              "    }\n",
              "    40% {\n",
              "      border-color: transparent;\n",
              "      border-right-color: var(--fill-color);\n",
              "      border-top-color: var(--fill-color);\n",
              "    }\n",
              "    60% {\n",
              "      border-color: transparent;\n",
              "      border-right-color: var(--fill-color);\n",
              "    }\n",
              "    80% {\n",
              "      border-color: transparent;\n",
              "      border-right-color: var(--fill-color);\n",
              "      border-bottom-color: var(--fill-color);\n",
              "    }\n",
              "    90% {\n",
              "      border-color: transparent;\n",
              "      border-bottom-color: var(--fill-color);\n",
              "    }\n",
              "  }\n",
              "</style>\n",
              "\n",
              "  <script>\n",
              "    async function quickchart(key) {\n",
              "      const quickchartButtonEl =\n",
              "        document.querySelector('#' + key + ' button');\n",
              "      quickchartButtonEl.disabled = true;  // To prevent multiple clicks.\n",
              "      quickchartButtonEl.classList.add('colab-df-spinner');\n",
              "      try {\n",
              "        const charts = await google.colab.kernel.invokeFunction(\n",
              "            'suggestCharts', [key], {});\n",
              "      } catch (error) {\n",
              "        console.error('Error during call to suggestCharts:', error);\n",
              "      }\n",
              "      quickchartButtonEl.classList.remove('colab-df-spinner');\n",
              "      quickchartButtonEl.classList.add('colab-df-quickchart-complete');\n",
              "    }\n",
              "    (() => {\n",
              "      let quickchartButtonEl =\n",
              "        document.querySelector('#df-ad55d91a-47a7-4692-be83-602fda35bebe button');\n",
              "      quickchartButtonEl.style.display =\n",
              "        google.colab.kernel.accessAllowed ? 'block' : 'none';\n",
              "    })();\n",
              "  </script>\n",
              "</div>\n",
              "    </div>\n",
              "  </div>\n"
            ]
          },
          "metadata": {},
          "execution_count": 4
        }
      ]
    },
    {
      "cell_type": "code",
      "source": [
        "data.drop('Unnamed: 0',axis=1,inplace=True)"
      ],
      "metadata": {
        "id": "68v0ETIz0_T8"
      },
      "execution_count": 5,
      "outputs": []
    },
    {
      "cell_type": "code",
      "source": [
        "data"
      ],
      "metadata": {
        "colab": {
          "base_uri": "https://localhost:8080/",
          "height": 423
        },
        "id": "k4QjRMxq3cTh",
        "outputId": "4f57b867-bd17-45fe-c5b8-8ace975eaace"
      },
      "execution_count": 6,
      "outputs": [
        {
          "output_type": "execute_result",
          "data": {
            "text/plain": [
              "         Timestamp      Open      High       Low     Close  Volume_(BTC)  \\\n",
              "0       1577836800   7160.69   7160.69   7159.64   7159.64      5.501691   \n",
              "1       1577836860   7161.51   7161.51   7155.09   7161.20      3.776924   \n",
              "2       1577836920   7158.82   7158.82   7158.82   7158.82      0.029278   \n",
              "3       1577836980   7158.82   7158.82   7156.90   7156.90      0.065819   \n",
              "4       1577837040   7158.50   7158.50   7154.97   7157.20      0.971387   \n",
              "...            ...       ...       ...       ...       ...           ...   \n",
              "655196  1617148560  58714.31  58714.31  58686.00  58686.00      1.384487   \n",
              "655197  1617148620  58683.97  58693.43  58683.97  58685.81      7.294848   \n",
              "655198  1617148680  58693.43  58723.84  58693.43  58723.84      1.705682   \n",
              "655199  1617148740  58742.18  58770.38  58742.18  58760.59      0.720415   \n",
              "655200  1617148800  58767.75  58778.18  58755.97  58778.18      2.712831   \n",
              "\n",
              "        Volume_(Currency)  Weighted_Price  \n",
              "0            39392.484606     7160.068520  \n",
              "1            27047.304680     7161.198209  \n",
              "2              209.595359     7158.820000  \n",
              "3              471.156094     7158.321885  \n",
              "4             6950.500833     7155.235666  \n",
              "...                   ...             ...  \n",
              "655196       81259.372187    58692.753339  \n",
              "655197      428158.146640    58693.226508  \n",
              "655198      100117.070370    58696.198496  \n",
              "655199       42332.958633    58761.866202  \n",
              "655200      159417.751000    58764.349363  \n",
              "\n",
              "[655201 rows x 8 columns]"
            ],
            "text/html": [
              "\n",
              "  <div id=\"df-ff8241c1-6a61-419e-9ee4-da95c76a9c3c\" class=\"colab-df-container\">\n",
              "    <div>\n",
              "<style scoped>\n",
              "    .dataframe tbody tr th:only-of-type {\n",
              "        vertical-align: middle;\n",
              "    }\n",
              "\n",
              "    .dataframe tbody tr th {\n",
              "        vertical-align: top;\n",
              "    }\n",
              "\n",
              "    .dataframe thead th {\n",
              "        text-align: right;\n",
              "    }\n",
              "</style>\n",
              "<table border=\"1\" class=\"dataframe\">\n",
              "  <thead>\n",
              "    <tr style=\"text-align: right;\">\n",
              "      <th></th>\n",
              "      <th>Timestamp</th>\n",
              "      <th>Open</th>\n",
              "      <th>High</th>\n",
              "      <th>Low</th>\n",
              "      <th>Close</th>\n",
              "      <th>Volume_(BTC)</th>\n",
              "      <th>Volume_(Currency)</th>\n",
              "      <th>Weighted_Price</th>\n",
              "    </tr>\n",
              "  </thead>\n",
              "  <tbody>\n",
              "    <tr>\n",
              "      <th>0</th>\n",
              "      <td>1577836800</td>\n",
              "      <td>7160.69</td>\n",
              "      <td>7160.69</td>\n",
              "      <td>7159.64</td>\n",
              "      <td>7159.64</td>\n",
              "      <td>5.501691</td>\n",
              "      <td>39392.484606</td>\n",
              "      <td>7160.068520</td>\n",
              "    </tr>\n",
              "    <tr>\n",
              "      <th>1</th>\n",
              "      <td>1577836860</td>\n",
              "      <td>7161.51</td>\n",
              "      <td>7161.51</td>\n",
              "      <td>7155.09</td>\n",
              "      <td>7161.20</td>\n",
              "      <td>3.776924</td>\n",
              "      <td>27047.304680</td>\n",
              "      <td>7161.198209</td>\n",
              "    </tr>\n",
              "    <tr>\n",
              "      <th>2</th>\n",
              "      <td>1577836920</td>\n",
              "      <td>7158.82</td>\n",
              "      <td>7158.82</td>\n",
              "      <td>7158.82</td>\n",
              "      <td>7158.82</td>\n",
              "      <td>0.029278</td>\n",
              "      <td>209.595359</td>\n",
              "      <td>7158.820000</td>\n",
              "    </tr>\n",
              "    <tr>\n",
              "      <th>3</th>\n",
              "      <td>1577836980</td>\n",
              "      <td>7158.82</td>\n",
              "      <td>7158.82</td>\n",
              "      <td>7156.90</td>\n",
              "      <td>7156.90</td>\n",
              "      <td>0.065819</td>\n",
              "      <td>471.156094</td>\n",
              "      <td>7158.321885</td>\n",
              "    </tr>\n",
              "    <tr>\n",
              "      <th>4</th>\n",
              "      <td>1577837040</td>\n",
              "      <td>7158.50</td>\n",
              "      <td>7158.50</td>\n",
              "      <td>7154.97</td>\n",
              "      <td>7157.20</td>\n",
              "      <td>0.971387</td>\n",
              "      <td>6950.500833</td>\n",
              "      <td>7155.235666</td>\n",
              "    </tr>\n",
              "    <tr>\n",
              "      <th>...</th>\n",
              "      <td>...</td>\n",
              "      <td>...</td>\n",
              "      <td>...</td>\n",
              "      <td>...</td>\n",
              "      <td>...</td>\n",
              "      <td>...</td>\n",
              "      <td>...</td>\n",
              "      <td>...</td>\n",
              "    </tr>\n",
              "    <tr>\n",
              "      <th>655196</th>\n",
              "      <td>1617148560</td>\n",
              "      <td>58714.31</td>\n",
              "      <td>58714.31</td>\n",
              "      <td>58686.00</td>\n",
              "      <td>58686.00</td>\n",
              "      <td>1.384487</td>\n",
              "      <td>81259.372187</td>\n",
              "      <td>58692.753339</td>\n",
              "    </tr>\n",
              "    <tr>\n",
              "      <th>655197</th>\n",
              "      <td>1617148620</td>\n",
              "      <td>58683.97</td>\n",
              "      <td>58693.43</td>\n",
              "      <td>58683.97</td>\n",
              "      <td>58685.81</td>\n",
              "      <td>7.294848</td>\n",
              "      <td>428158.146640</td>\n",
              "      <td>58693.226508</td>\n",
              "    </tr>\n",
              "    <tr>\n",
              "      <th>655198</th>\n",
              "      <td>1617148680</td>\n",
              "      <td>58693.43</td>\n",
              "      <td>58723.84</td>\n",
              "      <td>58693.43</td>\n",
              "      <td>58723.84</td>\n",
              "      <td>1.705682</td>\n",
              "      <td>100117.070370</td>\n",
              "      <td>58696.198496</td>\n",
              "    </tr>\n",
              "    <tr>\n",
              "      <th>655199</th>\n",
              "      <td>1617148740</td>\n",
              "      <td>58742.18</td>\n",
              "      <td>58770.38</td>\n",
              "      <td>58742.18</td>\n",
              "      <td>58760.59</td>\n",
              "      <td>0.720415</td>\n",
              "      <td>42332.958633</td>\n",
              "      <td>58761.866202</td>\n",
              "    </tr>\n",
              "    <tr>\n",
              "      <th>655200</th>\n",
              "      <td>1617148800</td>\n",
              "      <td>58767.75</td>\n",
              "      <td>58778.18</td>\n",
              "      <td>58755.97</td>\n",
              "      <td>58778.18</td>\n",
              "      <td>2.712831</td>\n",
              "      <td>159417.751000</td>\n",
              "      <td>58764.349363</td>\n",
              "    </tr>\n",
              "  </tbody>\n",
              "</table>\n",
              "<p>655201 rows × 8 columns</p>\n",
              "</div>\n",
              "    <div class=\"colab-df-buttons\">\n",
              "\n",
              "  <div class=\"colab-df-container\">\n",
              "    <button class=\"colab-df-convert\" onclick=\"convertToInteractive('df-ff8241c1-6a61-419e-9ee4-da95c76a9c3c')\"\n",
              "            title=\"Convert this dataframe to an interactive table.\"\n",
              "            style=\"display:none;\">\n",
              "\n",
              "  <svg xmlns=\"http://www.w3.org/2000/svg\" height=\"24px\" viewBox=\"0 -960 960 960\">\n",
              "    <path d=\"M120-120v-720h720v720H120Zm60-500h600v-160H180v160Zm220 220h160v-160H400v160Zm0 220h160v-160H400v160ZM180-400h160v-160H180v160Zm440 0h160v-160H620v160ZM180-180h160v-160H180v160Zm440 0h160v-160H620v160Z\"/>\n",
              "  </svg>\n",
              "    </button>\n",
              "\n",
              "  <style>\n",
              "    .colab-df-container {\n",
              "      display:flex;\n",
              "      gap: 12px;\n",
              "    }\n",
              "\n",
              "    .colab-df-convert {\n",
              "      background-color: #E8F0FE;\n",
              "      border: none;\n",
              "      border-radius: 50%;\n",
              "      cursor: pointer;\n",
              "      display: none;\n",
              "      fill: #1967D2;\n",
              "      height: 32px;\n",
              "      padding: 0 0 0 0;\n",
              "      width: 32px;\n",
              "    }\n",
              "\n",
              "    .colab-df-convert:hover {\n",
              "      background-color: #E2EBFA;\n",
              "      box-shadow: 0px 1px 2px rgba(60, 64, 67, 0.3), 0px 1px 3px 1px rgba(60, 64, 67, 0.15);\n",
              "      fill: #174EA6;\n",
              "    }\n",
              "\n",
              "    .colab-df-buttons div {\n",
              "      margin-bottom: 4px;\n",
              "    }\n",
              "\n",
              "    [theme=dark] .colab-df-convert {\n",
              "      background-color: #3B4455;\n",
              "      fill: #D2E3FC;\n",
              "    }\n",
              "\n",
              "    [theme=dark] .colab-df-convert:hover {\n",
              "      background-color: #434B5C;\n",
              "      box-shadow: 0px 1px 3px 1px rgba(0, 0, 0, 0.15);\n",
              "      filter: drop-shadow(0px 1px 2px rgba(0, 0, 0, 0.3));\n",
              "      fill: #FFFFFF;\n",
              "    }\n",
              "  </style>\n",
              "\n",
              "    <script>\n",
              "      const buttonEl =\n",
              "        document.querySelector('#df-ff8241c1-6a61-419e-9ee4-da95c76a9c3c button.colab-df-convert');\n",
              "      buttonEl.style.display =\n",
              "        google.colab.kernel.accessAllowed ? 'block' : 'none';\n",
              "\n",
              "      async function convertToInteractive(key) {\n",
              "        const element = document.querySelector('#df-ff8241c1-6a61-419e-9ee4-da95c76a9c3c');\n",
              "        const dataTable =\n",
              "          await google.colab.kernel.invokeFunction('convertToInteractive',\n",
              "                                                    [key], {});\n",
              "        if (!dataTable) return;\n",
              "\n",
              "        const docLinkHtml = 'Like what you see? Visit the ' +\n",
              "          '<a target=\"_blank\" href=https://colab.research.google.com/notebooks/data_table.ipynb>data table notebook</a>'\n",
              "          + ' to learn more about interactive tables.';\n",
              "        element.innerHTML = '';\n",
              "        dataTable['output_type'] = 'display_data';\n",
              "        await google.colab.output.renderOutput(dataTable, element);\n",
              "        const docLink = document.createElement('div');\n",
              "        docLink.innerHTML = docLinkHtml;\n",
              "        element.appendChild(docLink);\n",
              "      }\n",
              "    </script>\n",
              "  </div>\n",
              "\n",
              "\n",
              "<div id=\"df-e240fe27-26e0-437d-b4e9-1f2a6edbdd20\">\n",
              "  <button class=\"colab-df-quickchart\" onclick=\"quickchart('df-e240fe27-26e0-437d-b4e9-1f2a6edbdd20')\"\n",
              "            title=\"Suggest charts.\"\n",
              "            style=\"display:none;\">\n",
              "\n",
              "<svg xmlns=\"http://www.w3.org/2000/svg\" height=\"24px\"viewBox=\"0 0 24 24\"\n",
              "     width=\"24px\">\n",
              "    <g>\n",
              "        <path d=\"M19 3H5c-1.1 0-2 .9-2 2v14c0 1.1.9 2 2 2h14c1.1 0 2-.9 2-2V5c0-1.1-.9-2-2-2zM9 17H7v-7h2v7zm4 0h-2V7h2v10zm4 0h-2v-4h2v4z\"/>\n",
              "    </g>\n",
              "</svg>\n",
              "  </button>\n",
              "\n",
              "<style>\n",
              "  .colab-df-quickchart {\n",
              "      --bg-color: #E8F0FE;\n",
              "      --fill-color: #1967D2;\n",
              "      --hover-bg-color: #E2EBFA;\n",
              "      --hover-fill-color: #174EA6;\n",
              "      --disabled-fill-color: #AAA;\n",
              "      --disabled-bg-color: #DDD;\n",
              "  }\n",
              "\n",
              "  [theme=dark] .colab-df-quickchart {\n",
              "      --bg-color: #3B4455;\n",
              "      --fill-color: #D2E3FC;\n",
              "      --hover-bg-color: #434B5C;\n",
              "      --hover-fill-color: #FFFFFF;\n",
              "      --disabled-bg-color: #3B4455;\n",
              "      --disabled-fill-color: #666;\n",
              "  }\n",
              "\n",
              "  .colab-df-quickchart {\n",
              "    background-color: var(--bg-color);\n",
              "    border: none;\n",
              "    border-radius: 50%;\n",
              "    cursor: pointer;\n",
              "    display: none;\n",
              "    fill: var(--fill-color);\n",
              "    height: 32px;\n",
              "    padding: 0;\n",
              "    width: 32px;\n",
              "  }\n",
              "\n",
              "  .colab-df-quickchart:hover {\n",
              "    background-color: var(--hover-bg-color);\n",
              "    box-shadow: 0 1px 2px rgba(60, 64, 67, 0.3), 0 1px 3px 1px rgba(60, 64, 67, 0.15);\n",
              "    fill: var(--button-hover-fill-color);\n",
              "  }\n",
              "\n",
              "  .colab-df-quickchart-complete:disabled,\n",
              "  .colab-df-quickchart-complete:disabled:hover {\n",
              "    background-color: var(--disabled-bg-color);\n",
              "    fill: var(--disabled-fill-color);\n",
              "    box-shadow: none;\n",
              "  }\n",
              "\n",
              "  .colab-df-spinner {\n",
              "    border: 2px solid var(--fill-color);\n",
              "    border-color: transparent;\n",
              "    border-bottom-color: var(--fill-color);\n",
              "    animation:\n",
              "      spin 1s steps(1) infinite;\n",
              "  }\n",
              "\n",
              "  @keyframes spin {\n",
              "    0% {\n",
              "      border-color: transparent;\n",
              "      border-bottom-color: var(--fill-color);\n",
              "      border-left-color: var(--fill-color);\n",
              "    }\n",
              "    20% {\n",
              "      border-color: transparent;\n",
              "      border-left-color: var(--fill-color);\n",
              "      border-top-color: var(--fill-color);\n",
              "    }\n",
              "    30% {\n",
              "      border-color: transparent;\n",
              "      border-left-color: var(--fill-color);\n",
              "      border-top-color: var(--fill-color);\n",
              "      border-right-color: var(--fill-color);\n",
              "    }\n",
              "    40% {\n",
              "      border-color: transparent;\n",
              "      border-right-color: var(--fill-color);\n",
              "      border-top-color: var(--fill-color);\n",
              "    }\n",
              "    60% {\n",
              "      border-color: transparent;\n",
              "      border-right-color: var(--fill-color);\n",
              "    }\n",
              "    80% {\n",
              "      border-color: transparent;\n",
              "      border-right-color: var(--fill-color);\n",
              "      border-bottom-color: var(--fill-color);\n",
              "    }\n",
              "    90% {\n",
              "      border-color: transparent;\n",
              "      border-bottom-color: var(--fill-color);\n",
              "    }\n",
              "  }\n",
              "</style>\n",
              "\n",
              "  <script>\n",
              "    async function quickchart(key) {\n",
              "      const quickchartButtonEl =\n",
              "        document.querySelector('#' + key + ' button');\n",
              "      quickchartButtonEl.disabled = true;  // To prevent multiple clicks.\n",
              "      quickchartButtonEl.classList.add('colab-df-spinner');\n",
              "      try {\n",
              "        const charts = await google.colab.kernel.invokeFunction(\n",
              "            'suggestCharts', [key], {});\n",
              "      } catch (error) {\n",
              "        console.error('Error during call to suggestCharts:', error);\n",
              "      }\n",
              "      quickchartButtonEl.classList.remove('colab-df-spinner');\n",
              "      quickchartButtonEl.classList.add('colab-df-quickchart-complete');\n",
              "    }\n",
              "    (() => {\n",
              "      let quickchartButtonEl =\n",
              "        document.querySelector('#df-e240fe27-26e0-437d-b4e9-1f2a6edbdd20 button');\n",
              "      quickchartButtonEl.style.display =\n",
              "        google.colab.kernel.accessAllowed ? 'block' : 'none';\n",
              "    })();\n",
              "  </script>\n",
              "</div>\n",
              "    </div>\n",
              "  </div>\n"
            ]
          },
          "metadata": {},
          "execution_count": 6
        }
      ]
    },
    {
      "cell_type": "code",
      "source": [
        "data.isna().sum()"
      ],
      "metadata": {
        "colab": {
          "base_uri": "https://localhost:8080/"
        },
        "id": "eaOC3N1u3jf9",
        "outputId": "86ccf13e-8c01-4945-82be-12c6d65a7e13"
      },
      "execution_count": 7,
      "outputs": [
        {
          "output_type": "execute_result",
          "data": {
            "text/plain": [
              "Timestamp            0\n",
              "Open                 0\n",
              "High                 0\n",
              "Low                  0\n",
              "Close                0\n",
              "Volume_(BTC)         0\n",
              "Volume_(Currency)    0\n",
              "Weighted_Price       0\n",
              "dtype: int64"
            ]
          },
          "metadata": {},
          "execution_count": 7
        }
      ]
    },
    {
      "cell_type": "markdown",
      "source": [
        "**Feature Engineering**"
      ],
      "metadata": {
        "id": "hpSdpLwHqSLS"
      }
    },
    {
      "cell_type": "code",
      "source": [
        "data['Timestamp'] = pd.to_datetime(data['Timestamp'], unit='s')"
      ],
      "metadata": {
        "id": "zF5i6sNX4FhH"
      },
      "execution_count": 8,
      "outputs": []
    },
    {
      "cell_type": "code",
      "source": [
        "data.info()"
      ],
      "metadata": {
        "colab": {
          "base_uri": "https://localhost:8080/"
        },
        "id": "WjMbw8P0BFaD",
        "outputId": "41cf6a4b-f0ee-46f3-d9d2-3045db5e90bd"
      },
      "execution_count": 9,
      "outputs": [
        {
          "output_type": "stream",
          "name": "stdout",
          "text": [
            "<class 'pandas.core.frame.DataFrame'>\n",
            "RangeIndex: 655201 entries, 0 to 655200\n",
            "Data columns (total 8 columns):\n",
            " #   Column             Non-Null Count   Dtype         \n",
            "---  ------             --------------   -----         \n",
            " 0   Timestamp          655201 non-null  datetime64[ns]\n",
            " 1   Open               655201 non-null  float64       \n",
            " 2   High               655201 non-null  float64       \n",
            " 3   Low                655201 non-null  float64       \n",
            " 4   Close              655201 non-null  float64       \n",
            " 5   Volume_(BTC)       655201 non-null  float64       \n",
            " 6   Volume_(Currency)  655201 non-null  float64       \n",
            " 7   Weighted_Price     655201 non-null  float64       \n",
            "dtypes: datetime64[ns](1), float64(7)\n",
            "memory usage: 40.0 MB\n"
          ]
        }
      ]
    },
    {
      "cell_type": "code",
      "source": [
        "data"
      ],
      "metadata": {
        "colab": {
          "base_uri": "https://localhost:8080/",
          "height": 423
        },
        "id": "Xz9RfJmsCHt9",
        "outputId": "c8156516-9201-4406-9a04-e7686d414222"
      },
      "execution_count": 10,
      "outputs": [
        {
          "output_type": "execute_result",
          "data": {
            "text/plain": [
              "                 Timestamp      Open      High       Low     Close  \\\n",
              "0      2020-01-01 00:00:00   7160.69   7160.69   7159.64   7159.64   \n",
              "1      2020-01-01 00:01:00   7161.51   7161.51   7155.09   7161.20   \n",
              "2      2020-01-01 00:02:00   7158.82   7158.82   7158.82   7158.82   \n",
              "3      2020-01-01 00:03:00   7158.82   7158.82   7156.90   7156.90   \n",
              "4      2020-01-01 00:04:00   7158.50   7158.50   7154.97   7157.20   \n",
              "...                    ...       ...       ...       ...       ...   \n",
              "655196 2021-03-30 23:56:00  58714.31  58714.31  58686.00  58686.00   \n",
              "655197 2021-03-30 23:57:00  58683.97  58693.43  58683.97  58685.81   \n",
              "655198 2021-03-30 23:58:00  58693.43  58723.84  58693.43  58723.84   \n",
              "655199 2021-03-30 23:59:00  58742.18  58770.38  58742.18  58760.59   \n",
              "655200 2021-03-31 00:00:00  58767.75  58778.18  58755.97  58778.18   \n",
              "\n",
              "        Volume_(BTC)  Volume_(Currency)  Weighted_Price  \n",
              "0           5.501691       39392.484606     7160.068520  \n",
              "1           3.776924       27047.304680     7161.198209  \n",
              "2           0.029278         209.595359     7158.820000  \n",
              "3           0.065819         471.156094     7158.321885  \n",
              "4           0.971387        6950.500833     7155.235666  \n",
              "...              ...                ...             ...  \n",
              "655196      1.384487       81259.372187    58692.753339  \n",
              "655197      7.294848      428158.146640    58693.226508  \n",
              "655198      1.705682      100117.070370    58696.198496  \n",
              "655199      0.720415       42332.958633    58761.866202  \n",
              "655200      2.712831      159417.751000    58764.349363  \n",
              "\n",
              "[655201 rows x 8 columns]"
            ],
            "text/html": [
              "\n",
              "  <div id=\"df-f77c6625-d4c4-4da4-b6ad-5371f133f38a\" class=\"colab-df-container\">\n",
              "    <div>\n",
              "<style scoped>\n",
              "    .dataframe tbody tr th:only-of-type {\n",
              "        vertical-align: middle;\n",
              "    }\n",
              "\n",
              "    .dataframe tbody tr th {\n",
              "        vertical-align: top;\n",
              "    }\n",
              "\n",
              "    .dataframe thead th {\n",
              "        text-align: right;\n",
              "    }\n",
              "</style>\n",
              "<table border=\"1\" class=\"dataframe\">\n",
              "  <thead>\n",
              "    <tr style=\"text-align: right;\">\n",
              "      <th></th>\n",
              "      <th>Timestamp</th>\n",
              "      <th>Open</th>\n",
              "      <th>High</th>\n",
              "      <th>Low</th>\n",
              "      <th>Close</th>\n",
              "      <th>Volume_(BTC)</th>\n",
              "      <th>Volume_(Currency)</th>\n",
              "      <th>Weighted_Price</th>\n",
              "    </tr>\n",
              "  </thead>\n",
              "  <tbody>\n",
              "    <tr>\n",
              "      <th>0</th>\n",
              "      <td>2020-01-01 00:00:00</td>\n",
              "      <td>7160.69</td>\n",
              "      <td>7160.69</td>\n",
              "      <td>7159.64</td>\n",
              "      <td>7159.64</td>\n",
              "      <td>5.501691</td>\n",
              "      <td>39392.484606</td>\n",
              "      <td>7160.068520</td>\n",
              "    </tr>\n",
              "    <tr>\n",
              "      <th>1</th>\n",
              "      <td>2020-01-01 00:01:00</td>\n",
              "      <td>7161.51</td>\n",
              "      <td>7161.51</td>\n",
              "      <td>7155.09</td>\n",
              "      <td>7161.20</td>\n",
              "      <td>3.776924</td>\n",
              "      <td>27047.304680</td>\n",
              "      <td>7161.198209</td>\n",
              "    </tr>\n",
              "    <tr>\n",
              "      <th>2</th>\n",
              "      <td>2020-01-01 00:02:00</td>\n",
              "      <td>7158.82</td>\n",
              "      <td>7158.82</td>\n",
              "      <td>7158.82</td>\n",
              "      <td>7158.82</td>\n",
              "      <td>0.029278</td>\n",
              "      <td>209.595359</td>\n",
              "      <td>7158.820000</td>\n",
              "    </tr>\n",
              "    <tr>\n",
              "      <th>3</th>\n",
              "      <td>2020-01-01 00:03:00</td>\n",
              "      <td>7158.82</td>\n",
              "      <td>7158.82</td>\n",
              "      <td>7156.90</td>\n",
              "      <td>7156.90</td>\n",
              "      <td>0.065819</td>\n",
              "      <td>471.156094</td>\n",
              "      <td>7158.321885</td>\n",
              "    </tr>\n",
              "    <tr>\n",
              "      <th>4</th>\n",
              "      <td>2020-01-01 00:04:00</td>\n",
              "      <td>7158.50</td>\n",
              "      <td>7158.50</td>\n",
              "      <td>7154.97</td>\n",
              "      <td>7157.20</td>\n",
              "      <td>0.971387</td>\n",
              "      <td>6950.500833</td>\n",
              "      <td>7155.235666</td>\n",
              "    </tr>\n",
              "    <tr>\n",
              "      <th>...</th>\n",
              "      <td>...</td>\n",
              "      <td>...</td>\n",
              "      <td>...</td>\n",
              "      <td>...</td>\n",
              "      <td>...</td>\n",
              "      <td>...</td>\n",
              "      <td>...</td>\n",
              "      <td>...</td>\n",
              "    </tr>\n",
              "    <tr>\n",
              "      <th>655196</th>\n",
              "      <td>2021-03-30 23:56:00</td>\n",
              "      <td>58714.31</td>\n",
              "      <td>58714.31</td>\n",
              "      <td>58686.00</td>\n",
              "      <td>58686.00</td>\n",
              "      <td>1.384487</td>\n",
              "      <td>81259.372187</td>\n",
              "      <td>58692.753339</td>\n",
              "    </tr>\n",
              "    <tr>\n",
              "      <th>655197</th>\n",
              "      <td>2021-03-30 23:57:00</td>\n",
              "      <td>58683.97</td>\n",
              "      <td>58693.43</td>\n",
              "      <td>58683.97</td>\n",
              "      <td>58685.81</td>\n",
              "      <td>7.294848</td>\n",
              "      <td>428158.146640</td>\n",
              "      <td>58693.226508</td>\n",
              "    </tr>\n",
              "    <tr>\n",
              "      <th>655198</th>\n",
              "      <td>2021-03-30 23:58:00</td>\n",
              "      <td>58693.43</td>\n",
              "      <td>58723.84</td>\n",
              "      <td>58693.43</td>\n",
              "      <td>58723.84</td>\n",
              "      <td>1.705682</td>\n",
              "      <td>100117.070370</td>\n",
              "      <td>58696.198496</td>\n",
              "    </tr>\n",
              "    <tr>\n",
              "      <th>655199</th>\n",
              "      <td>2021-03-30 23:59:00</td>\n",
              "      <td>58742.18</td>\n",
              "      <td>58770.38</td>\n",
              "      <td>58742.18</td>\n",
              "      <td>58760.59</td>\n",
              "      <td>0.720415</td>\n",
              "      <td>42332.958633</td>\n",
              "      <td>58761.866202</td>\n",
              "    </tr>\n",
              "    <tr>\n",
              "      <th>655200</th>\n",
              "      <td>2021-03-31 00:00:00</td>\n",
              "      <td>58767.75</td>\n",
              "      <td>58778.18</td>\n",
              "      <td>58755.97</td>\n",
              "      <td>58778.18</td>\n",
              "      <td>2.712831</td>\n",
              "      <td>159417.751000</td>\n",
              "      <td>58764.349363</td>\n",
              "    </tr>\n",
              "  </tbody>\n",
              "</table>\n",
              "<p>655201 rows × 8 columns</p>\n",
              "</div>\n",
              "    <div class=\"colab-df-buttons\">\n",
              "\n",
              "  <div class=\"colab-df-container\">\n",
              "    <button class=\"colab-df-convert\" onclick=\"convertToInteractive('df-f77c6625-d4c4-4da4-b6ad-5371f133f38a')\"\n",
              "            title=\"Convert this dataframe to an interactive table.\"\n",
              "            style=\"display:none;\">\n",
              "\n",
              "  <svg xmlns=\"http://www.w3.org/2000/svg\" height=\"24px\" viewBox=\"0 -960 960 960\">\n",
              "    <path d=\"M120-120v-720h720v720H120Zm60-500h600v-160H180v160Zm220 220h160v-160H400v160Zm0 220h160v-160H400v160ZM180-400h160v-160H180v160Zm440 0h160v-160H620v160ZM180-180h160v-160H180v160Zm440 0h160v-160H620v160Z\"/>\n",
              "  </svg>\n",
              "    </button>\n",
              "\n",
              "  <style>\n",
              "    .colab-df-container {\n",
              "      display:flex;\n",
              "      gap: 12px;\n",
              "    }\n",
              "\n",
              "    .colab-df-convert {\n",
              "      background-color: #E8F0FE;\n",
              "      border: none;\n",
              "      border-radius: 50%;\n",
              "      cursor: pointer;\n",
              "      display: none;\n",
              "      fill: #1967D2;\n",
              "      height: 32px;\n",
              "      padding: 0 0 0 0;\n",
              "      width: 32px;\n",
              "    }\n",
              "\n",
              "    .colab-df-convert:hover {\n",
              "      background-color: #E2EBFA;\n",
              "      box-shadow: 0px 1px 2px rgba(60, 64, 67, 0.3), 0px 1px 3px 1px rgba(60, 64, 67, 0.15);\n",
              "      fill: #174EA6;\n",
              "    }\n",
              "\n",
              "    .colab-df-buttons div {\n",
              "      margin-bottom: 4px;\n",
              "    }\n",
              "\n",
              "    [theme=dark] .colab-df-convert {\n",
              "      background-color: #3B4455;\n",
              "      fill: #D2E3FC;\n",
              "    }\n",
              "\n",
              "    [theme=dark] .colab-df-convert:hover {\n",
              "      background-color: #434B5C;\n",
              "      box-shadow: 0px 1px 3px 1px rgba(0, 0, 0, 0.15);\n",
              "      filter: drop-shadow(0px 1px 2px rgba(0, 0, 0, 0.3));\n",
              "      fill: #FFFFFF;\n",
              "    }\n",
              "  </style>\n",
              "\n",
              "    <script>\n",
              "      const buttonEl =\n",
              "        document.querySelector('#df-f77c6625-d4c4-4da4-b6ad-5371f133f38a button.colab-df-convert');\n",
              "      buttonEl.style.display =\n",
              "        google.colab.kernel.accessAllowed ? 'block' : 'none';\n",
              "\n",
              "      async function convertToInteractive(key) {\n",
              "        const element = document.querySelector('#df-f77c6625-d4c4-4da4-b6ad-5371f133f38a');\n",
              "        const dataTable =\n",
              "          await google.colab.kernel.invokeFunction('convertToInteractive',\n",
              "                                                    [key], {});\n",
              "        if (!dataTable) return;\n",
              "\n",
              "        const docLinkHtml = 'Like what you see? Visit the ' +\n",
              "          '<a target=\"_blank\" href=https://colab.research.google.com/notebooks/data_table.ipynb>data table notebook</a>'\n",
              "          + ' to learn more about interactive tables.';\n",
              "        element.innerHTML = '';\n",
              "        dataTable['output_type'] = 'display_data';\n",
              "        await google.colab.output.renderOutput(dataTable, element);\n",
              "        const docLink = document.createElement('div');\n",
              "        docLink.innerHTML = docLinkHtml;\n",
              "        element.appendChild(docLink);\n",
              "      }\n",
              "    </script>\n",
              "  </div>\n",
              "\n",
              "\n",
              "<div id=\"df-dda8824a-9d04-49d0-b68a-3d0a7df72e0f\">\n",
              "  <button class=\"colab-df-quickchart\" onclick=\"quickchart('df-dda8824a-9d04-49d0-b68a-3d0a7df72e0f')\"\n",
              "            title=\"Suggest charts.\"\n",
              "            style=\"display:none;\">\n",
              "\n",
              "<svg xmlns=\"http://www.w3.org/2000/svg\" height=\"24px\"viewBox=\"0 0 24 24\"\n",
              "     width=\"24px\">\n",
              "    <g>\n",
              "        <path d=\"M19 3H5c-1.1 0-2 .9-2 2v14c0 1.1.9 2 2 2h14c1.1 0 2-.9 2-2V5c0-1.1-.9-2-2-2zM9 17H7v-7h2v7zm4 0h-2V7h2v10zm4 0h-2v-4h2v4z\"/>\n",
              "    </g>\n",
              "</svg>\n",
              "  </button>\n",
              "\n",
              "<style>\n",
              "  .colab-df-quickchart {\n",
              "      --bg-color: #E8F0FE;\n",
              "      --fill-color: #1967D2;\n",
              "      --hover-bg-color: #E2EBFA;\n",
              "      --hover-fill-color: #174EA6;\n",
              "      --disabled-fill-color: #AAA;\n",
              "      --disabled-bg-color: #DDD;\n",
              "  }\n",
              "\n",
              "  [theme=dark] .colab-df-quickchart {\n",
              "      --bg-color: #3B4455;\n",
              "      --fill-color: #D2E3FC;\n",
              "      --hover-bg-color: #434B5C;\n",
              "      --hover-fill-color: #FFFFFF;\n",
              "      --disabled-bg-color: #3B4455;\n",
              "      --disabled-fill-color: #666;\n",
              "  }\n",
              "\n",
              "  .colab-df-quickchart {\n",
              "    background-color: var(--bg-color);\n",
              "    border: none;\n",
              "    border-radius: 50%;\n",
              "    cursor: pointer;\n",
              "    display: none;\n",
              "    fill: var(--fill-color);\n",
              "    height: 32px;\n",
              "    padding: 0;\n",
              "    width: 32px;\n",
              "  }\n",
              "\n",
              "  .colab-df-quickchart:hover {\n",
              "    background-color: var(--hover-bg-color);\n",
              "    box-shadow: 0 1px 2px rgba(60, 64, 67, 0.3), 0 1px 3px 1px rgba(60, 64, 67, 0.15);\n",
              "    fill: var(--button-hover-fill-color);\n",
              "  }\n",
              "\n",
              "  .colab-df-quickchart-complete:disabled,\n",
              "  .colab-df-quickchart-complete:disabled:hover {\n",
              "    background-color: var(--disabled-bg-color);\n",
              "    fill: var(--disabled-fill-color);\n",
              "    box-shadow: none;\n",
              "  }\n",
              "\n",
              "  .colab-df-spinner {\n",
              "    border: 2px solid var(--fill-color);\n",
              "    border-color: transparent;\n",
              "    border-bottom-color: var(--fill-color);\n",
              "    animation:\n",
              "      spin 1s steps(1) infinite;\n",
              "  }\n",
              "\n",
              "  @keyframes spin {\n",
              "    0% {\n",
              "      border-color: transparent;\n",
              "      border-bottom-color: var(--fill-color);\n",
              "      border-left-color: var(--fill-color);\n",
              "    }\n",
              "    20% {\n",
              "      border-color: transparent;\n",
              "      border-left-color: var(--fill-color);\n",
              "      border-top-color: var(--fill-color);\n",
              "    }\n",
              "    30% {\n",
              "      border-color: transparent;\n",
              "      border-left-color: var(--fill-color);\n",
              "      border-top-color: var(--fill-color);\n",
              "      border-right-color: var(--fill-color);\n",
              "    }\n",
              "    40% {\n",
              "      border-color: transparent;\n",
              "      border-right-color: var(--fill-color);\n",
              "      border-top-color: var(--fill-color);\n",
              "    }\n",
              "    60% {\n",
              "      border-color: transparent;\n",
              "      border-right-color: var(--fill-color);\n",
              "    }\n",
              "    80% {\n",
              "      border-color: transparent;\n",
              "      border-right-color: var(--fill-color);\n",
              "      border-bottom-color: var(--fill-color);\n",
              "    }\n",
              "    90% {\n",
              "      border-color: transparent;\n",
              "      border-bottom-color: var(--fill-color);\n",
              "    }\n",
              "  }\n",
              "</style>\n",
              "\n",
              "  <script>\n",
              "    async function quickchart(key) {\n",
              "      const quickchartButtonEl =\n",
              "        document.querySelector('#' + key + ' button');\n",
              "      quickchartButtonEl.disabled = true;  // To prevent multiple clicks.\n",
              "      quickchartButtonEl.classList.add('colab-df-spinner');\n",
              "      try {\n",
              "        const charts = await google.colab.kernel.invokeFunction(\n",
              "            'suggestCharts', [key], {});\n",
              "      } catch (error) {\n",
              "        console.error('Error during call to suggestCharts:', error);\n",
              "      }\n",
              "      quickchartButtonEl.classList.remove('colab-df-spinner');\n",
              "      quickchartButtonEl.classList.add('colab-df-quickchart-complete');\n",
              "    }\n",
              "    (() => {\n",
              "      let quickchartButtonEl =\n",
              "        document.querySelector('#df-dda8824a-9d04-49d0-b68a-3d0a7df72e0f button');\n",
              "      quickchartButtonEl.style.display =\n",
              "        google.colab.kernel.accessAllowed ? 'block' : 'none';\n",
              "    })();\n",
              "  </script>\n",
              "</div>\n",
              "    </div>\n",
              "  </div>\n"
            ]
          },
          "metadata": {},
          "execution_count": 10
        }
      ]
    },
    {
      "cell_type": "code",
      "source": [
        "y_1=norm(loc=data['Open'].mean(),scale=data['Open'].std()).pdf(data['Open'])"
      ],
      "metadata": {
        "id": "KTKrPCc2xoio"
      },
      "execution_count": 11,
      "outputs": []
    },
    {
      "cell_type": "code",
      "source": [
        "plt.plot(data['Open'],y_1,c='blue')\n",
        "plt.show()"
      ],
      "metadata": {
        "colab": {
          "base_uri": "https://localhost:8080/",
          "height": 445
        },
        "id": "ynouy18IyJvG",
        "outputId": "0fb0c57e-f6d1-46c4-9772-2c4e366a819b"
      },
      "execution_count": 12,
      "outputs": [
        {
          "output_type": "display_data",
          "data": {
            "text/plain": [
              "<Figure size 640x480 with 1 Axes>"
            ],
            "image/png": "[encoded data removed]"
          },
          "metadata": {}
        }
      ]
    },
    {
      "cell_type": "code",
      "source": [
        "plt.scatter(data['Timestamp'],data['Open'])"
      ],
      "metadata": {
        "colab": {
          "base_uri": "https://localhost:8080/",
          "height": 447
        },
        "id": "feR-7ur0yTyi",
        "outputId": "601b48c5-6e57-4863-f2cd-6008e7ef9af7"
      },
      "execution_count": 13,
      "outputs": [
        {
          "output_type": "execute_result",
          "data": {
            "text/plain": [
              "<matplotlib.collections.PathCollection at 0x7fa1fd7f1570>"
            ]
          },
          "metadata": {},
          "execution_count": 13
        },
        {
          "output_type": "display_data",
          "data": {
            "text/plain": [
              "<Figure size 640x480 with 1 Axes>"
            ],
            "image/png": "[encoded data removed]"
          },
          "metadata": {}
        }
      ]
    },
    {
      "cell_type": "code",
      "source": [
        "sns.boxplot(x=data['Open'])"
      ],
      "metadata": {
        "colab": {
          "base_uri": "https://localhost:8080/",
          "height": 466
        },
        "id": "X5dSMYbByjyS",
        "outputId": "61e28bcb-973e-4a79-9f3b-13f5635f2487"
      },
      "execution_count": 14,
      "outputs": [
        {
          "output_type": "execute_result",
          "data": {
            "text/plain": [
              "<Axes: xlabel='Open'>"
            ]
          },
          "metadata": {},
          "execution_count": 14
        },
        {
          "output_type": "display_data",
          "data": {
            "text/plain": [
              "<Figure size 640x480 with 1 Axes>"
            ],
            "image/png": "[encoded data removed]"
          },
          "metadata": {}
        }
      ]
    },
    {
      "cell_type": "code",
      "source": [
        "y_2=norm(loc=data['Close'].mean(),scale=data['Close'].std()).pdf(data['Close'])\n",
        "plt.plot(data['Close'],y_2,c='blue')\n",
        "plt.show()"
      ],
      "metadata": {
        "colab": {
          "base_uri": "https://localhost:8080/",
          "height": 445
        },
        "id": "84y82BWcy9d0",
        "outputId": "d52678fc-ad10-4fc3-876f-6191a7dea3c0"
      },
      "execution_count": 15,
      "outputs": [
        {
          "output_type": "display_data",
          "data": {
            "text/plain": [
              "<Figure size 640x480 with 1 Axes>"
            ],
            "image/png": "[encoded data removed]"
          },
          "metadata": {}
        }
      ]
    },
    {
      "cell_type": "code",
      "source": [
        "plt.scatter(data['Timestamp'],data['Close'])"
      ],
      "metadata": {
        "colab": {
          "base_uri": "https://localhost:8080/",
          "height": 447
        },
        "id": "KIF03LsvzEnF",
        "outputId": "f35257c7-0041-4a86-aeff-e09bc4f8e367"
      },
      "execution_count": 16,
      "outputs": [
        {
          "output_type": "execute_result",
          "data": {
            "text/plain": [
              "<matplotlib.collections.PathCollection at 0x7fa1fd5ac940>"
            ]
          },
          "metadata": {},
          "execution_count": 16
        },
        {
          "output_type": "display_data",
          "data": {
            "text/plain": [
              "<Figure size 640x480 with 1 Axes>"
            ],
            "image/png": "[encoded data removed]"
          },
          "metadata": {}
        }
      ]
    },
    {
      "cell_type": "code",
      "source": [
        "sns.boxplot(x=data['Close'])"
      ],
      "metadata": {
        "colab": {
          "base_uri": "https://localhost:8080/",
          "height": 466
        },
        "id": "TC1Jsv1PzSd_",
        "outputId": "ad35b052-bdc9-4fbf-a977-eadb55cf7932"
      },
      "execution_count": 17,
      "outputs": [
        {
          "output_type": "execute_result",
          "data": {
            "text/plain": [
              "<Axes: xlabel='Close'>"
            ]
          },
          "metadata": {},
          "execution_count": 17
        },
        {
          "output_type": "display_data",
          "data": {
            "text/plain": [
              "<Figure size 640x480 with 1 Axes>"
            ],
            "image/png": "[encoded data removed]"
          },
          "metadata": {}
        }
      ]
    },
    {
      "cell_type": "code",
      "source": [
        "y_3=norm(loc=data['High'].mean(),scale=data['High'].std()).pdf(data['High'])\n",
        "plt.plot(data['High'],y_3,c='blue')\n",
        "plt.show()"
      ],
      "metadata": {
        "colab": {
          "base_uri": "https://localhost:8080/",
          "height": 445
        },
        "id": "VVGzzmWrzg6P",
        "outputId": "b10e4e28-26b2-47eb-82f3-3db2cf4cf572"
      },
      "execution_count": 18,
      "outputs": [
        {
          "output_type": "display_data",
          "data": {
            "text/plain": [
              "<Figure size 640x480 with 1 Axes>"
            ],
            "image/png": "[encoded data removed]"
          },
          "metadata": {}
        }
      ]
    },
    {
      "cell_type": "code",
      "source": [
        "columns_to_plot=['Open','Close','High','Low']\n",
        "sns.violinplot(data=data[columns_to_plot])\n",
        "plt.ylabel('Value')\n",
        "plt.title('Violin Plot of Multiple Columns')\n",
        "plt.show()"
      ],
      "metadata": {
        "id": "hzRvHNrEznXw",
        "colab": {
          "base_uri": "https://localhost:8080/",
          "height": 452
        },
        "outputId": "81bcd71f-f5ee-443c-8bd2-0fd6a7ec416b"
      },
      "execution_count": 19,
      "outputs": [
        {
          "output_type": "display_data",
          "data": {
            "text/plain": [
              "<Figure size 640x480 with 1 Axes>"
            ],
            "image/png": "[encoded data removed]"
          },
          "metadata": {}
        }
      ]
    },
    {
      "cell_type": "markdown",
      "source": [
        "**Extracting insights**"
      ],
      "metadata": {
        "id": "OOBUcDCACN9E"
      }
    },
    {
      "cell_type": "markdown",
      "source": [
        "**1- Highest close price according to each year**"
      ],
      "metadata": {
        "id": "hKzs4vi_Cce8"
      }
    },
    {
      "cell_type": "code",
      "source": [
        "data['year'] = data['Timestamp'].dt.year\n"
      ],
      "metadata": {
        "id": "LEFkXQDpCKXu"
      },
      "execution_count": 20,
      "outputs": []
    },
    {
      "cell_type": "code",
      "source": [
        "data"
      ],
      "metadata": {
        "colab": {
          "base_uri": "https://localhost:8080/",
          "height": 423
        },
        "id": "_H5WuzhcC77o",
        "outputId": "cbfc48e0-ce72-40c8-d089-d82d6cdb2337"
      },
      "execution_count": 21,
      "outputs": [
        {
          "output_type": "execute_result",
          "data": {
            "text/plain": [
              "                 Timestamp      Open      High       Low     Close  \\\n",
              "0      2020-01-01 00:00:00   7160.69   7160.69   7159.64   7159.64   \n",
              "1      2020-01-01 00:01:00   7161.51   7161.51   7155.09   7161.20   \n",
              "2      2020-01-01 00:02:00   7158.82   7158.82   7158.82   7158.82   \n",
              "3      2020-01-01 00:03:00   7158.82   7158.82   7156.90   7156.90   \n",
              "4      2020-01-01 00:04:00   7158.50   7158.50   7154.97   7157.20   \n",
              "...                    ...       ...       ...       ...       ...   \n",
              "655196 2021-03-30 23:56:00  58714.31  58714.31  58686.00  58686.00   \n",
              "655197 2021-03-30 23:57:00  58683.97  58693.43  58683.97  58685.81   \n",
              "655198 2021-03-30 23:58:00  58693.43  58723.84  58693.43  58723.84   \n",
              "655199 2021-03-30 23:59:00  58742.18  58770.38  58742.18  58760.59   \n",
              "655200 2021-03-31 00:00:00  58767.75  58778.18  58755.97  58778.18   \n",
              "\n",
              "        Volume_(BTC)  Volume_(Currency)  Weighted_Price  year  \n",
              "0           5.501691       39392.484606     7160.068520  2020  \n",
              "1           3.776924       27047.304680     7161.198209  2020  \n",
              "2           0.029278         209.595359     7158.820000  2020  \n",
              "3           0.065819         471.156094     7158.321885  2020  \n",
              "4           0.971387        6950.500833     7155.235666  2020  \n",
              "...              ...                ...             ...   ...  \n",
              "655196      1.384487       81259.372187    58692.753339  2021  \n",
              "655197      7.294848      428158.146640    58693.226508  2021  \n",
              "655198      1.705682      100117.070370    58696.198496  2021  \n",
              "655199      0.720415       42332.958633    58761.866202  2021  \n",
              "655200      2.712831      159417.751000    58764.349363  2021  \n",
              "\n",
              "[655201 rows x 9 columns]"
            ],
            "text/html": [
              "\n",
              "  <div id=\"df-d1c89391-1544-4c81-8e85-616470f60e65\" class=\"colab-df-container\">\n",
              "    <div>\n",
              "<style scoped>\n",
              "    .dataframe tbody tr th:only-of-type {\n",
              "        vertical-align: middle;\n",
              "    }\n",
              "\n",
              "    .dataframe tbody tr th {\n",
              "        vertical-align: top;\n",
              "    }\n",
              "\n",
              "    .dataframe thead th {\n",
              "        text-align: right;\n",
              "    }\n",
              "</style>\n",
              "<table border=\"1\" class=\"dataframe\">\n",
              "  <thead>\n",
              "    <tr style=\"text-align: right;\">\n",
              "      <th></th>\n",
              "      <th>Timestamp</th>\n",
              "      <th>Open</th>\n",
              "      <th>High</th>\n",
              "      <th>Low</th>\n",
              "      <th>Close</th>\n",
              "      <th>Volume_(BTC)</th>\n",
              "      <th>Volume_(Currency)</th>\n",
              "      <th>Weighted_Price</th>\n",
              "      <th>year</th>\n",
              "    </tr>\n",
              "  </thead>\n",
              "  <tbody>\n",
              "    <tr>\n",
              "      <th>0</th>\n",
              "      <td>2020-01-01 00:00:00</td>\n",
              "      <td>7160.69</td>\n",
              "      <td>7160.69</td>\n",
              "      <td>7159.64</td>\n",
              "      <td>7159.64</td>\n",
              "      <td>5.501691</td>\n",
              "      <td>39392.484606</td>\n",
              "      <td>7160.068520</td>\n",
              "      <td>2020</td>\n",
              "    </tr>\n",
              "    <tr>\n",
              "      <th>1</th>\n",
              "      <td>2020-01-01 00:01:00</td>\n",
              "      <td>7161.51</td>\n",
              "      <td>7161.51</td>\n",
              "      <td>7155.09</td>\n",
              "      <td>7161.20</td>\n",
              "      <td>3.776924</td>\n",
              "      <td>27047.304680</td>\n",
              "      <td>7161.198209</td>\n",
              "      <td>2020</td>\n",
              "    </tr>\n",
              "    <tr>\n",
              "      <th>2</th>\n",
              "      <td>2020-01-01 00:02:00</td>\n",
              "      <td>7158.82</td>\n",
              "      <td>7158.82</td>\n",
              "      <td>7158.82</td>\n",
              "      <td>7158.82</td>\n",
              "      <td>0.029278</td>\n",
              "      <td>209.595359</td>\n",
              "      <td>7158.820000</td>\n",
              "      <td>2020</td>\n",
              "    </tr>\n",
              "    <tr>\n",
              "      <th>3</th>\n",
              "      <td>2020-01-01 00:03:00</td>\n",
              "      <td>7158.82</td>\n",
              "      <td>7158.82</td>\n",
              "      <td>7156.90</td>\n",
              "      <td>7156.90</td>\n",
              "      <td>0.065819</td>\n",
              "      <td>471.156094</td>\n",
              "      <td>7158.321885</td>\n",
              "      <td>2020</td>\n",
              "    </tr>\n",
              "    <tr>\n",
              "      <th>4</th>\n",
              "      <td>2020-01-01 00:04:00</td>\n",
              "      <td>7158.50</td>\n",
              "      <td>7158.50</td>\n",
              "      <td>7154.97</td>\n",
              "      <td>7157.20</td>\n",
              "      <td>0.971387</td>\n",
              "      <td>6950.500833</td>\n",
              "      <td>7155.235666</td>\n",
              "      <td>2020</td>\n",
              "    </tr>\n",
              "    <tr>\n",
              "      <th>...</th>\n",
              "      <td>...</td>\n",
              "      <td>...</td>\n",
              "      <td>...</td>\n",
              "      <td>...</td>\n",
              "      <td>...</td>\n",
              "      <td>...</td>\n",
              "      <td>...</td>\n",
              "      <td>...</td>\n",
              "      <td>...</td>\n",
              "    </tr>\n",
              "    <tr>\n",
              "      <th>655196</th>\n",
              "      <td>2021-03-30 23:56:00</td>\n",
              "      <td>58714.31</td>\n",
              "      <td>58714.31</td>\n",
              "      <td>58686.00</td>\n",
              "      <td>58686.00</td>\n",
              "      <td>1.384487</td>\n",
              "      <td>81259.372187</td>\n",
              "      <td>58692.753339</td>\n",
              "      <td>2021</td>\n",
              "    </tr>\n",
              "    <tr>\n",
              "      <th>655197</th>\n",
              "      <td>2021-03-30 23:57:00</td>\n",
              "      <td>58683.97</td>\n",
              "      <td>58693.43</td>\n",
              "      <td>58683.97</td>\n",
              "      <td>58685.81</td>\n",
              "      <td>7.294848</td>\n",
              "      <td>428158.146640</td>\n",
              "      <td>58693.226508</td>\n",
              "      <td>2021</td>\n",
              "    </tr>\n",
              "    <tr>\n",
              "      <th>655198</th>\n",
              "      <td>2021-03-30 23:58:00</td>\n",
              "      <td>58693.43</td>\n",
              "      <td>58723.84</td>\n",
              "      <td>58693.43</td>\n",
              "      <td>58723.84</td>\n",
              "      <td>1.705682</td>\n",
              "      <td>100117.070370</td>\n",
              "      <td>58696.198496</td>\n",
              "      <td>2021</td>\n",
              "    </tr>\n",
              "    <tr>\n",
              "      <th>655199</th>\n",
              "      <td>2021-03-30 23:59:00</td>\n",
              "      <td>58742.18</td>\n",
              "      <td>58770.38</td>\n",
              "      <td>58742.18</td>\n",
              "      <td>58760.59</td>\n",
              "      <td>0.720415</td>\n",
              "      <td>42332.958633</td>\n",
              "      <td>58761.866202</td>\n",
              "      <td>2021</td>\n",
              "    </tr>\n",
              "    <tr>\n",
              "      <th>655200</th>\n",
              "      <td>2021-03-31 00:00:00</td>\n",
              "      <td>58767.75</td>\n",
              "      <td>58778.18</td>\n",
              "      <td>58755.97</td>\n",
              "      <td>58778.18</td>\n",
              "      <td>2.712831</td>\n",
              "      <td>159417.751000</td>\n",
              "      <td>58764.349363</td>\n",
              "      <td>2021</td>\n",
              "    </tr>\n",
              "  </tbody>\n",
              "</table>\n",
              "<p>655201 rows × 9 columns</p>\n",
              "</div>\n",
              "    <div class=\"colab-df-buttons\">\n",
              "\n",
              "  <div class=\"colab-df-container\">\n",
              "    <button class=\"colab-df-convert\" onclick=\"convertToInteractive('df-d1c89391-1544-4c81-8e85-616470f60e65')\"\n",
              "            title=\"Convert this dataframe to an interactive table.\"\n",
              "            style=\"display:none;\">\n",
              "\n",
              "  <svg xmlns=\"http://www.w3.org/2000/svg\" height=\"24px\" viewBox=\"0 -960 960 960\">\n",
              "    <path d=\"M120-120v-720h720v720H120Zm60-500h600v-160H180v160Zm220 220h160v-160H400v160Zm0 220h160v-160H400v160ZM180-400h160v-160H180v160Zm440 0h160v-160H620v160ZM180-180h160v-160H180v160Zm440 0h160v-160H620v160Z\"/>\n",
              "  </svg>\n",
              "    </button>\n",
              "\n",
              "  <style>\n",
              "    .colab-df-container {\n",
              "      display:flex;\n",
              "      gap: 12px;\n",
              "    }\n",
              "\n",
              "    .colab-df-convert {\n",
              "      background-color: #E8F0FE;\n",
              "      border: none;\n",
              "      border-radius: 50%;\n",
              "      cursor: pointer;\n",
              "      display: none;\n",
              "      fill: #1967D2;\n",
              "      height: 32px;\n",
              "      padding: 0 0 0 0;\n",
              "      width: 32px;\n",
              "    }\n",
              "\n",
              "    .colab-df-convert:hover {\n",
              "      background-color: #E2EBFA;\n",
              "      box-shadow: 0px 1px 2px rgba(60, 64, 67, 0.3), 0px 1px 3px 1px rgba(60, 64, 67, 0.15);\n",
              "      fill: #174EA6;\n",
              "    }\n",
              "\n",
              "    .colab-df-buttons div {\n",
              "      margin-bottom: 4px;\n",
              "    }\n",
              "\n",
              "    [theme=dark] .colab-df-convert {\n",
              "      background-color: #3B4455;\n",
              "      fill: #D2E3FC;\n",
              "    }\n",
              "\n",
              "    [theme=dark] .colab-df-convert:hover {\n",
              "      background-color: #434B5C;\n",
              "      box-shadow: 0px 1px 3px 1px rgba(0, 0, 0, 0.15);\n",
              "      filter: drop-shadow(0px 1px 2px rgba(0, 0, 0, 0.3));\n",
              "      fill: #FFFFFF;\n",
              "    }\n",
              "  </style>\n",
              "\n",
              "    <script>\n",
              "      const buttonEl =\n",
              "        document.querySelector('#df-d1c89391-1544-4c81-8e85-616470f60e65 button.colab-df-convert');\n",
              "      buttonEl.style.display =\n",
              "        google.colab.kernel.accessAllowed ? 'block' : 'none';\n",
              "\n",
              "      async function convertToInteractive(key) {\n",
              "        const element = document.querySelector('#df-d1c89391-1544-4c81-8e85-616470f60e65');\n",
              "        const dataTable =\n",
              "          await google.colab.kernel.invokeFunction('convertToInteractive',\n",
              "                                                    [key], {});\n",
              "        if (!dataTable) return;\n",
              "\n",
              "        const docLinkHtml = 'Like what you see? Visit the ' +\n",
              "          '<a target=\"_blank\" href=https://colab.research.google.com/notebooks/data_table.ipynb>data table notebook</a>'\n",
              "          + ' to learn more about interactive tables.';\n",
              "        element.innerHTML = '';\n",
              "        dataTable['output_type'] = 'display_data';\n",
              "        await google.colab.output.renderOutput(dataTable, element);\n",
              "        const docLink = document.createElement('div');\n",
              "        docLink.innerHTML = docLinkHtml;\n",
              "        element.appendChild(docLink);\n",
              "      }\n",
              "    </script>\n",
              "  </div>\n",
              "\n",
              "\n",
              "<div id=\"df-0ef44a31-a72f-48e7-b255-59cc7cd4f725\">\n",
              "  <button class=\"colab-df-quickchart\" onclick=\"quickchart('df-0ef44a31-a72f-48e7-b255-59cc7cd4f725')\"\n",
              "            title=\"Suggest charts.\"\n",
              "            style=\"display:none;\">\n",
              "\n",
              "<svg xmlns=\"http://www.w3.org/2000/svg\" height=\"24px\"viewBox=\"0 0 24 24\"\n",
              "     width=\"24px\">\n",
              "    <g>\n",
              "        <path d=\"M19 3H5c-1.1 0-2 .9-2 2v14c0 1.1.9 2 2 2h14c1.1 0 2-.9 2-2V5c0-1.1-.9-2-2-2zM9 17H7v-7h2v7zm4 0h-2V7h2v10zm4 0h-2v-4h2v4z\"/>\n",
              "    </g>\n",
              "</svg>\n",
              "  </button>\n",
              "\n",
              "<style>\n",
              "  .colab-df-quickchart {\n",
              "      --bg-color: #E8F0FE;\n",
              "      --fill-color: #1967D2;\n",
              "      --hover-bg-color: #E2EBFA;\n",
              "      --hover-fill-color: #174EA6;\n",
              "      --disabled-fill-color: #AAA;\n",
              "      --disabled-bg-color: #DDD;\n",
              "  }\n",
              "\n",
              "  [theme=dark] .colab-df-quickchart {\n",
              "      --bg-color: #3B4455;\n",
              "      --fill-color: #D2E3FC;\n",
              "      --hover-bg-color: #434B5C;\n",
              "      --hover-fill-color: #FFFFFF;\n",
              "      --disabled-bg-color: #3B4455;\n",
              "      --disabled-fill-color: #666;\n",
              "  }\n",
              "\n",
              "  .colab-df-quickchart {\n",
              "    background-color: var(--bg-color);\n",
              "    border: none;\n",
              "    border-radius: 50%;\n",
              "    cursor: pointer;\n",
              "    display: none;\n",
              "    fill: var(--fill-color);\n",
              "    height: 32px;\n",
              "    padding: 0;\n",
              "    width: 32px;\n",
              "  }\n",
              "\n",
              "  .colab-df-quickchart:hover {\n",
              "    background-color: var(--hover-bg-color);\n",
              "    box-shadow: 0 1px 2px rgba(60, 64, 67, 0.3), 0 1px 3px 1px rgba(60, 64, 67, 0.15);\n",
              "    fill: var(--button-hover-fill-color);\n",
              "  }\n",
              "\n",
              "  .colab-df-quickchart-complete:disabled,\n",
              "  .colab-df-quickchart-complete:disabled:hover {\n",
              "    background-color: var(--disabled-bg-color);\n",
              "    fill: var(--disabled-fill-color);\n",
              "    box-shadow: none;\n",
              "  }\n",
              "\n",
              "  .colab-df-spinner {\n",
              "    border: 2px solid var(--fill-color);\n",
              "    border-color: transparent;\n",
              "    border-bottom-color: var(--fill-color);\n",
              "    animation:\n",
              "      spin 1s steps(1) infinite;\n",
              "  }\n",
              "\n",
              "  @keyframes spin {\n",
              "    0% {\n",
              "      border-color: transparent;\n",
              "      border-bottom-color: var(--fill-color);\n",
              "      border-left-color: var(--fill-color);\n",
              "    }\n",
              "    20% {\n",
              "      border-color: transparent;\n",
              "      border-left-color: var(--fill-color);\n",
              "      border-top-color: var(--fill-color);\n",
              "    }\n",
              "    30% {\n",
              "      border-color: transparent;\n",
              "      border-left-color: var(--fill-color);\n",
              "      border-top-color: var(--fill-color);\n",
              "      border-right-color: var(--fill-color);\n",
              "    }\n",
              "    40% {\n",
              "      border-color: transparent;\n",
              "      border-right-color: var(--fill-color);\n",
              "      border-top-color: var(--fill-color);\n",
              "    }\n",
              "    60% {\n",
              "      border-color: transparent;\n",
              "      border-right-color: var(--fill-color);\n",
              "    }\n",
              "    80% {\n",
              "      border-color: transparent;\n",
              "      border-right-color: var(--fill-color);\n",
              "      border-bottom-color: var(--fill-color);\n",
              "    }\n",
              "    90% {\n",
              "      border-color: transparent;\n",
              "      border-bottom-color: var(--fill-color);\n",
              "    }\n",
              "  }\n",
              "</style>\n",
              "\n",
              "  <script>\n",
              "    async function quickchart(key) {\n",
              "      const quickchartButtonEl =\n",
              "        document.querySelector('#' + key + ' button');\n",
              "      quickchartButtonEl.disabled = true;  // To prevent multiple clicks.\n",
              "      quickchartButtonEl.classList.add('colab-df-spinner');\n",
              "      try {\n",
              "        const charts = await google.colab.kernel.invokeFunction(\n",
              "            'suggestCharts', [key], {});\n",
              "      } catch (error) {\n",
              "        console.error('Error during call to suggestCharts:', error);\n",
              "      }\n",
              "      quickchartButtonEl.classList.remove('colab-df-spinner');\n",
              "      quickchartButtonEl.classList.add('colab-df-quickchart-complete');\n",
              "    }\n",
              "    (() => {\n",
              "      let quickchartButtonEl =\n",
              "        document.querySelector('#df-0ef44a31-a72f-48e7-b255-59cc7cd4f725 button');\n",
              "      quickchartButtonEl.style.display =\n",
              "        google.colab.kernel.accessAllowed ? 'block' : 'none';\n",
              "    })();\n",
              "  </script>\n",
              "</div>\n",
              "    </div>\n",
              "  </div>\n"
            ]
          },
          "metadata": {},
          "execution_count": 21
        }
      ]
    },
    {
      "cell_type": "code",
      "source": [
        "highest_close_by_year = data.groupby('year')['Close'].max()\n"
      ],
      "metadata": {
        "id": "PAJyPVEKDFR0"
      },
      "execution_count": 22,
      "outputs": []
    },
    {
      "cell_type": "code",
      "source": [
        "highest_close_by_year"
      ],
      "metadata": {
        "colab": {
          "base_uri": "https://localhost:8080/"
        },
        "id": "7JLUMGMVDNoL",
        "outputId": "a7a54479-0d87-4468-f3c1-1c5067c23e2d"
      },
      "execution_count": 23,
      "outputs": [
        {
          "output_type": "execute_result",
          "data": {
            "text/plain": [
              "year\n",
              "2020    29299.94\n",
              "2021    61781.80\n",
              "Name: Close, dtype: float64"
            ]
          },
          "metadata": {},
          "execution_count": 23
        }
      ]
    },
    {
      "cell_type": "code",
      "source": [
        "highest_close_by_year.plot(kind='bar')\n",
        "plt.xlabel('Year')\n",
        "plt.ylabel('Highest Close')\n",
        "plt.title('Highest Close of Bitcoin by Year')\n",
        "plt.xticks(rotation=45)\n",
        "plt.show()"
      ],
      "metadata": {
        "colab": {
          "base_uri": "https://localhost:8080/",
          "height": 492
        },
        "id": "CsU0u47yFUR0",
        "outputId": "2e6a5d28-6158-43c0-f5f0-23dccf267c35"
      },
      "execution_count": 24,
      "outputs": [
        {
          "output_type": "display_data",
          "data": {
            "text/plain": [
              "<Figure size 640x480 with 1 Axes>"
            ],
            "image/png": "[encoded data removed]"
          },
          "metadata": {}
        }
      ]
    },
    {
      "cell_type": "markdown",
      "source": [
        "**Visualization of Bitcoin close price overtime**"
      ],
      "metadata": {
        "id": "O7M2UkLpqeno"
      }
    },
    {
      "cell_type": "code",
      "source": [
        "plt.figure(figsize=(10, 6))\n",
        "plt.plot(data['Timestamp'], data['Close'])\n",
        "plt.xlabel('Timestamp')\n",
        "plt.ylabel('Close Price')\n",
        "plt.title('Bitcoin Close Price Over Time')\n",
        "plt.xticks(rotation=45)\n",
        "plt.grid(True)\n",
        "plt.show()"
      ],
      "metadata": {
        "colab": {
          "base_uri": "https://localhost:8080/",
          "height": 601
        },
        "id": "W1qZn88GD9C6",
        "outputId": "95b05231-e2cc-40e2-d57a-d73a8923de29"
      },
      "execution_count": 25,
      "outputs": [
        {
          "output_type": "display_data",
          "data": {
            "text/plain": [
              "<Figure size 1000x600 with 1 Axes>"
            ],
            "image/png": "[encoded data removed]"
          },
          "metadata": {}
        }
      ]
    },
    {
      "cell_type": "markdown",
      "source": [
        "**2-Summation of Volume(Currency) according to each year from January 2020 to March 2021**"
      ],
      "metadata": {
        "id": "lJaXH2jbrlqY"
      }
    },
    {
      "cell_type": "code",
      "source": [
        "sum_volume_currency_per_year = data.groupby('year')['Volume_(Currency)'].sum()"
      ],
      "metadata": {
        "id": "VsWLOd4yTfJY"
      },
      "execution_count": 26,
      "outputs": []
    },
    {
      "cell_type": "code",
      "source": [
        "sum_volume_currency_per_year"
      ],
      "metadata": {
        "colab": {
          "base_uri": "https://localhost:8080/"
        },
        "id": "9Eanxv38UUJL",
        "outputId": "dd29a4d6-e8ae-4a22-eb16-680edd72667d"
      },
      "execution_count": 27,
      "outputs": [
        {
          "output_type": "execute_result",
          "data": {
            "text/plain": [
              "year\n",
              "2020    3.342900e+10\n",
              "2021    3.513083e+10\n",
              "Name: Volume_(Currency), dtype: float64"
            ]
          },
          "metadata": {},
          "execution_count": 27
        }
      ]
    },
    {
      "cell_type": "code",
      "source": [
        "sum_volume_currency_per_year.plot(kind='bar')\n",
        "plt.xlabel('Year')\n",
        "plt.ylabel('Volume currency')\n",
        "plt.title('sum of volume currency by year until march 2021')\n",
        "plt.xticks(rotation=45)\n",
        "plt.show()"
      ],
      "metadata": {
        "colab": {
          "base_uri": "https://localhost:8080/",
          "height": 492
        },
        "id": "JJdIuTsKEeuf",
        "outputId": "0852d0d5-b095-497f-f61e-72fd9040ebe1"
      },
      "execution_count": 29,
      "outputs": [
        {
          "output_type": "display_data",
          "data": {
            "text/plain": [
              "<Figure size 640x480 with 1 Axes>"
            ],
            "image/png": "[encoded data removed]"
          },
          "metadata": {}
        }
      ]
    },
    {
      "cell_type": "code",
      "source": [
        "plt.figure(figsize=(10, 6))\n",
        "plt.plot(data['Timestamp'], data['Volume_(Currency)'])\n",
        "plt.xlabel('Timestamp')\n",
        "plt.ylabel('Volume(Currency)')\n",
        "plt.title('Bitcoin Volume(Currency) Over Time')\n",
        "plt.xticks(rotation=45)\n",
        "plt.grid(True)\n",
        "plt.show()"
      ],
      "metadata": {
        "colab": {
          "base_uri": "https://localhost:8080/",
          "height": 601
        },
        "id": "oUZLAJgUlvZL",
        "outputId": "b2965c1d-f142-477c-a9d4-7ffde4ff1e45"
      },
      "execution_count": null,
      "outputs": [
        {
          "output_type": "display_data",
          "data": {
            "text/plain": [
              "<Figure size 1000x600 with 1 Axes>"
            ],
            "image/png": "[encoded data removed]"
          },
          "metadata": {}
        }
      ]
    },
    {
      "cell_type": "markdown",
      "source": [
        "**3-Summation of Volume(BTC) according to each year from January 2020 to March 2021**"
      ],
      "metadata": {
        "id": "CKRu2BfGrfd1"
      }
    },
    {
      "cell_type": "code",
      "source": [
        "sum_volume_btc_per_year = data.groupby('year')['Volume_(BTC)'].sum()\n"
      ],
      "metadata": {
        "id": "U2zjMGPWVSv3"
      },
      "execution_count": null,
      "outputs": []
    },
    {
      "cell_type": "code",
      "source": [
        "sum_volume_btc_per_year"
      ],
      "metadata": {
        "colab": {
          "base_uri": "https://localhost:8080/"
        },
        "id": "z5ck002jViQz",
        "outputId": "684e85ad-4cb0-44c6-eb39-946bf9dd7e87"
      },
      "execution_count": null,
      "outputs": [
        {
          "output_type": "execute_result",
          "data": {
            "text/plain": [
              "year\n",
              "2020    3.089712e+06\n",
              "2021    8.513484e+05\n",
              "Name: Volume_(BTC), dtype: float64"
            ]
          },
          "metadata": {},
          "execution_count": 31
        }
      ]
    },
    {
      "cell_type": "code",
      "source": [
        "sum_volume_btc_per_year.plot(kind='bar')\n",
        "plt.xlabel('Year')\n",
        "plt.ylabel('Sum of volume')\n",
        "plt.title('Sum volume of bitcoin by year until march 2021')\n",
        "plt.xticks(rotation=45)\n",
        "plt.show()"
      ],
      "metadata": {
        "colab": {
          "base_uri": "https://localhost:8080/",
          "height": 492
        },
        "id": "rSquApKyGmBq",
        "outputId": "1179bd56-cb43-4b16-9c65-a6fdb4f2a583"
      },
      "execution_count": null,
      "outputs": [
        {
          "output_type": "display_data",
          "data": {
            "text/plain": [
              "<Figure size 640x480 with 1 Axes>"
            ],
            "image/png": "[encoded data removed]"
          },
          "metadata": {}
        }
      ]
    },
    {
      "cell_type": "code",
      "source": [
        "plt.figure(figsize=(10, 6))\n",
        "plt.plot(data['Timestamp'], data['Volume_(BTC)'])\n",
        "plt.xlabel('Timestamp')\n",
        "plt.ylabel('Volume(BTC)')\n",
        "plt.title('Bitcoin Volume(BTC) Over Time')\n",
        "plt.xticks(rotation=45)\n",
        "plt.grid(True)\n",
        "plt.show()"
      ],
      "metadata": {
        "colab": {
          "base_uri": "https://localhost:8080/",
          "height": 601
        },
        "id": "s-hKtiBl9p-k",
        "outputId": "32a8890e-8d45-4d22-c345-023fe7e95168"
      },
      "execution_count": null,
      "outputs": [
        {
          "output_type": "display_data",
          "data": {
            "text/plain": [
              "<Figure size 1000x600 with 1 Axes>"
            ],
            "image/png": "[encoded data removed]"
          },
          "metadata": {}
        }
      ]
    },
    {
      "cell_type": "markdown",
      "source": [
        "**4-Time of highest close price in 2020,2021 and all time**"
      ],
      "metadata": {
        "id": "sQayrNQ42ChL"
      }
    },
    {
      "cell_type": "code",
      "source": [
        "df_2020 = data[data['Timestamp'].dt.year == 2020]\n"
      ],
      "metadata": {
        "id": "cZozxuIpaaqj"
      },
      "execution_count": null,
      "outputs": []
    },
    {
      "cell_type": "code",
      "source": [
        "max_close_row = df_2020[df_2020['Close'] == df_2020['Close'].max()]\n",
        "max_close_datetime = max_close_row['Timestamp'].values[0]\n",
        "print(\"Datetime of Maximum Close Price in 2020:\", max_close_datetime)"
      ],
      "metadata": {
        "colab": {
          "base_uri": "https://localhost:8080/"
        },
        "id": "xt8dapHZjH9k",
        "outputId": "3c07aefd-bf86-40c7-dab7-d907c4970528"
      },
      "execution_count": null,
      "outputs": [
        {
          "output_type": "stream",
          "name": "stdout",
          "text": [
            "Datetime of Maximum Close Price in 2020: 2020-12-31T00:20:00.000000000\n"
          ]
        }
      ]
    },
    {
      "cell_type": "code",
      "source": [
        "df_2021 = data[data['Timestamp'].dt.year == 2021]\n",
        "max_close_row_2021 = df_2021[df_2021['Close'] == df_2021['Close'].max()]\n",
        "max_close_datetime_2021 = max_close_row_2021['Timestamp'].values[0]\n",
        "print(\"Datetime of Maximum Close Price in 2021:\", max_close_datetime_2021)"
      ],
      "metadata": {
        "colab": {
          "base_uri": "https://localhost:8080/"
        },
        "id": "kBMKPDNH3HoB",
        "outputId": "f176fb59-7693-4cc1-f1f9-e0e618a063dc"
      },
      "execution_count": null,
      "outputs": [
        {
          "output_type": "stream",
          "name": "stdout",
          "text": [
            "Datetime of Maximum Close Price in 2021: 2021-03-13T20:41:00.000000000\n"
          ]
        }
      ]
    },
    {
      "cell_type": "code",
      "source": [
        "max_close_row_all_time = data[data['Close'] == data['Close'].max()]\n",
        "max_close_datetime_all_time = max_close_row_all_time['Timestamp'].values[0]\n",
        "print(\"Datetime of Maximum Close Price all time:\", max_close_datetime_all_time)"
      ],
      "metadata": {
        "colab": {
          "base_uri": "https://localhost:8080/"
        },
        "id": "uYFYhuSu4Jji",
        "outputId": "3ada769b-2686-483d-b947-64e4b1ef8326"
      },
      "execution_count": null,
      "outputs": [
        {
          "output_type": "stream",
          "name": "stdout",
          "text": [
            "Datetime of Maximum Close Price all time: 2021-03-13T20:41:00.000000000\n"
          ]
        }
      ]
    },
    {
      "cell_type": "markdown",
      "source": [
        "**5-Time of highest Volume(Currency)**"
      ],
      "metadata": {
        "id": "nXwtPiug7J_f"
      }
    },
    {
      "cell_type": "code",
      "source": [
        "max_volume_row_all_time = data[data['Volume_(Currency)'] == data['Volume_(Currency)'].max()]\n",
        "max_volume_datetime_all_time = max_volume_row_all_time['Timestamp'].values[0]\n",
        "print(\"Datetime of Maximum Volume(Currency) all time:\", max_volume_datetime_all_time)"
      ],
      "metadata": {
        "colab": {
          "base_uri": "https://localhost:8080/"
        },
        "id": "T_mZQY-84_1k",
        "outputId": "378467bb-d2f1-4085-dfc2-dd64a4eb869c"
      },
      "execution_count": null,
      "outputs": [
        {
          "output_type": "stream",
          "name": "stdout",
          "text": [
            "Datetime of Maximum Volume(Currency) all time: 2021-01-10T20:28:00.000000000\n"
          ]
        }
      ]
    },
    {
      "cell_type": "markdown",
      "source": [
        "**6-Time of highest Volume(BTC)**"
      ],
      "metadata": {
        "id": "mk55iT0MIvnH"
      }
    },
    {
      "cell_type": "code",
      "source": [
        "max_volume_btc_row_all_time = data[data['Volume_(BTC)'] == data['Volume_(BTC)'].max()]\n",
        "max_volume_btc_datetime_all_time = max_volume_btc_row_all_time['Timestamp'].values[0]\n",
        "print(\"Datetime of Maximum Volume(BTC) all time:\", max_volume_btc_datetime_all_time)"
      ],
      "metadata": {
        "colab": {
          "base_uri": "https://localhost:8080/"
        },
        "id": "J6645qYS94R3",
        "outputId": "ed61b179-3d48-443e-a302-7f2b5c310f90"
      },
      "execution_count": null,
      "outputs": [
        {
          "output_type": "stream",
          "name": "stdout",
          "text": [
            "Datetime of Maximum Volume(BTC) all time: 2020-05-20T15:15:00.000000000\n"
          ]
        }
      ]
    },
    {
      "cell_type": "code",
      "source": [],
      "metadata": {
        "id": "fRfOdWNtI7G2"
      },
      "execution_count": null,
      "outputs": []
    }
  ]
}